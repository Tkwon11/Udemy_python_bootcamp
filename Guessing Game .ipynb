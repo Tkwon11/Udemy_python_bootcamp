{
 "cells": [
  {
   "cell_type": "markdown",
   "metadata": {},
   "source": [
    "# create list to capture all guesses. will append new guesses in while loop\n",
    "guesses = [0]\n",
    "\n",
    "#Pick a random integer from 1 to 100. Assign number to num.\n",
    "from random import randint \n",
    "num = randint(1,100)\n",
    "\n",
    "\n",
    "while True:\n",
    "    \n",
    "    #call for user input \n",
    "    guess = int(input(\"I'm thinking of a number between 1 and 100.\\n  What is your guess? \"))\n",
    "    \n",
    "    #condition to check if its within range. Continue goes to top and not append guess. \n",
    "    if guess < 1 or guess > 100: \n",
    "        print('OUT OF BOUNDS! Please try again: ')\n",
    "        continue\n",
    "    \n",
    "    #breaks loop if guessed correctly\n",
    "    if guess == num: \n",
    "        print (f'CONGRATULATIONS, YOU GUESSED IT IN ONLY {len(guesses)} GUESSES!!!')\n",
    "        break\n",
    "    \n",
    "    #appends guess to list\n",
    "    guesses.append(guess)\n",
    "    \n",
    "    #checks Truth value test for 2nd to last item. If != 0 then false if statement\n",
    "    if guesses[-2]:\n",
    "        if abs(num-guess) < abs(num-guesses[-2]):\n",
    "            print('WARMER!')\n",
    "        else:\n",
    "            print('COLDER!')\n",
    "        \n",
    "    #checks first guess to see if its within 10\n",
    "    else: \n",
    "        if abs(num-guess) <= 10:\n",
    "            print('WARM!')\n",
    "        else:\n",
    "            print ('COLD!')\n",
    "    "
   ]
  },
  {
   "cell_type": "code",
   "execution_count": null,
   "metadata": {},
   "outputs": [],
   "source": []
  }
 ],
 "metadata": {
  "kernelspec": {
   "display_name": "Python 3",
   "language": "python",
   "name": "python3"
  },
  "language_info": {
   "codemirror_mode": {
    "name": "ipython",
    "version": 3
   },
   "file_extension": ".py",
   "mimetype": "text/x-python",
   "name": "python",
   "nbconvert_exporter": "python",
   "pygments_lexer": "ipython3",
   "version": "3.7.4"
  }
 },
 "nbformat": 4,
 "nbformat_minor": 2
}
